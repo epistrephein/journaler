{
 "cells": [
  {
   "cell_type": "code",
   "execution_count": 38,
   "metadata": {},
   "outputs": [
    {
     "data": {
      "text/plain": [
       "True"
      ]
     },
     "execution_count": 38,
     "metadata": {},
     "output_type": "execute_result"
    }
   ],
   "source": [
    "from tentativo_2 import JournalUploadHandler\n",
    "from sparql_dataframe import get\n",
    "\n",
    "\n",
    "grp_endpoint = \"http://192.168.14.140:9999/blazegraph/sparql\"\n",
    "jou = JournalUploadHandler()\n",
    "jou.setDbPathOrUrl(grp_endpoint)\n",
    "jou.pushDataToDb(\"doaj.csv\")\n"
   ]
  },
  {
   "cell_type": "code",
   "execution_count": 44,
   "metadata": {},
   "outputs": [
    {
     "name": "stdout",
     "output_type": "stream",
     "text": [
      "Empty DataFrame\n",
      "Columns: [title, identifier, languages, publisher, seal, licence, apc]\n",
      "Index: []\n"
     ]
    }
   ],
   "source": [
    "# Bozza getAllJournals:\n",
    "\n",
    "query = \"\"\"\n",
    "  PREFIX rdf:  <http://www.w3.org/1999/02/22-rdf-syntax-ns#>\n",
    "  PREFIX schema: <https://schema.org/>\n",
    "  PREFIX wiki: <https://www.wikidata.org/wiki/>\n",
    "\n",
    "  SELECT ?title ?identifier ?languages ?publisher ?seal ?licence ?apc\n",
    "  WHERE {\n",
    "  ?journal rdf:type schema:Periodical .\n",
    "  ?journal schema:name ?title .\n",
    "  ?journal schema:identifier ?identifier .\n",
    "  ?journal schema:inLanguage ?languages .\n",
    "  ?journal schema:publisher ?publisher .\n",
    "  ?journal wiki:Q73548471 ?seal .\n",
    "  ?journal schema:license ?licence .\n",
    "  ?journal wiki:Q15291071 ?apc .\n",
    "  }\n",
    "  \"\"\"\n",
    "\n",
    "df_sparql = get(grp_endpoint, query, True)\n",
    "print(df_sparql)"
   ]
  },
  {
   "cell_type": "code",
   "execution_count": 43,
   "metadata": {},
   "outputs": [
    {
     "name": "stdout",
     "output_type": "stream",
     "text": [
      "                                                    o\n",
      "0                                 2527-4449,2527-4449\n",
      "1                                            CC BY-SA\n",
      "2                                                  No\n",
      "3                Jurnal Iqra': Kajian Ilmu Pendidikan\n",
      "4                         IAI Ma'arif NUMetro Lampung\n",
      "5                                                  No\n",
      "6                                 English, Indonesian\n",
      "7                       https://schema.org/Periodical\n",
      "8                                 2615-9856,2615-9856\n",
      "9                                            CC BY-NC\n",
      "10                                                 No\n",
      "11  Journal of International Economics and Management\n",
      "12                                    HDV INSER., JSC\n",
      "13                                                 No\n",
      "14                                            English\n",
      "15                      https://schema.org/Periodical\n",
      "16                                2658-1213,2658-1213\n",
      "17                                              CC BY\n",
      "18                                                 No\n",
      "19                      Pedagogika. Studia i Rozprawy\n"
     ]
    }
   ],
   "source": [
    "query = \"\"\"\n",
    "SELECT ?o\n",
    "WHERE {?s ?p ?o}LIMIT 20\n",
    "\"\"\"\n",
    "\n",
    "df_sparql = get(grp_endpoint, query, True)\n",
    "print(df_sparql)"
   ]
  },
  {
   "cell_type": "code",
   "execution_count": 29,
   "metadata": {},
   "outputs": [
    {
     "name": "stdout",
     "output_type": "stream",
     "text": [
      "Empty DataFrame\n",
      "Columns: [title, identifier, languages, publisher, seal, licence, apc]\n",
      "Index: []\n"
     ]
    }
   ],
   "source": [
    "# bozza per get by Id:\n",
    "\n",
    "query = f\"\"\"\n",
    "  PREFIX rdf:  <http://www.w3.org/1999/02/22-rdf-syntax-ns#>\n",
    "  PREFIX schema: <https://schema.org/>\n",
    "  PREFIX wiki: <https://www.wikidata.org/wiki/>\n",
    "\n",
    "  SELECT ?title ?identifier ?languages ?publisher ?seal ?licence ?apc\n",
    "  WHERE {{ \n",
    "          ?journal rdf:type schema:Periodical .\n",
    "          ?journal schema:name ?title .\n",
    "          ?journal schema:Language ?languages .\n",
    "          ?journal schema:publisher ?publisher .\n",
    "          ?journal wiki:Q162919 ?seal .\n",
    "          ?journal schema:license ?licence .\n",
    "          ?journal wiki:Q15291071 ?apc .\n",
    "          ?journal schema:identifier ?identifier .\n",
    "          FILTER(CONTAINS(?identifier, \"{id}\"))\n",
    "          }}\n",
    "  \"\"\"\n",
    "\n",
    "df_sparql = get(grp_endpoint, query, True)\n",
    "print(df_sparql)"
   ]
  },
  {
   "cell_type": "code",
   "execution_count": null,
   "metadata": {},
   "outputs": [],
   "source": []
  }
 ],
 "metadata": {
  "kernelspec": {
   "display_name": "base",
   "language": "python",
   "name": "python3"
  },
  "language_info": {
   "codemirror_mode": {
    "name": "ipython",
    "version": 3
   },
   "file_extension": ".py",
   "mimetype": "text/x-python",
   "name": "python",
   "nbconvert_exporter": "python",
   "pygments_lexer": "ipython3",
   "version": "3.11.5"
  }
 },
 "nbformat": 4,
 "nbformat_minor": 2
}
